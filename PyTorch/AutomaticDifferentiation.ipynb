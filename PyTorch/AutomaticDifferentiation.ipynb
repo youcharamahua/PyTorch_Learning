{
 "cells": [
  {
   "cell_type": "code",
   "id": "initial_id",
   "metadata": {
    "collapsed": true,
    "ExecuteTime": {
     "end_time": "2025-07-15T06:11:07.684775Z",
     "start_time": "2025-07-15T06:11:07.664668Z"
    }
   },
   "source": [
    "import torch\n",
    "#自动求导\n",
    "a = torch.tensor(2.0,requires_grad=True)\n",
    "b = torch.tensor(3.0,requires_grad=True)\n",
    "c = torch.tensor(4.0,requires_grad=True)\n",
    "y = a**2 + b**3 + 2*(c**4) + 5\n",
    "y.backward()\n",
    "print(a.grad)\n",
    "print(b.grad)\n",
    "print(c.grad)\n",
    "\n",
    "y2 = a*b + (a**2)*((b*c)**2) + (5*c)**2\n",
    "y2.backward()\n",
    "print(a.grad)\n",
    "print(b.grad)\n",
    "print(c.grad)"
   ],
   "outputs": [
    {
     "name": "stdout",
     "output_type": "stream",
     "text": [
      "tensor(4.)\n",
      "tensor(27.)\n",
      "tensor(512.)\n",
      "tensor(583.)\n",
      "tensor(413.)\n",
      "tensor(1000.)\n"
     ]
    }
   ],
   "execution_count": 3
  }
 ],
 "metadata": {
  "kernelspec": {
   "display_name": "Python 3",
   "language": "python",
   "name": "python3"
  },
  "language_info": {
   "codemirror_mode": {
    "name": "ipython",
    "version": 2
   },
   "file_extension": ".py",
   "mimetype": "text/x-python",
   "name": "python",
   "nbconvert_exporter": "python",
   "pygments_lexer": "ipython2",
   "version": "2.7.6"
  }
 },
 "nbformat": 4,
 "nbformat_minor": 5
}
