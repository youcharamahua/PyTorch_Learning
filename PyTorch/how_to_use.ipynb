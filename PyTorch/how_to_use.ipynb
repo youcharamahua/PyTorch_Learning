{
 "cells": [
  {
   "cell_type": "markdown",
   "source": [
    "导入 PyTorch 库，正式开始学习PyTorch库各种实用方法"
   ],
   "metadata": {
    "collapsed": false
   },
   "id": "a803cfd2c5b004c3"
  },
  {
   "cell_type": "code",
   "execution_count": 1,
   "id": "initial_id",
   "metadata": {
    "collapsed": true,
    "ExecuteTime": {
     "end_time": "2025-06-13T07:09:53.535875Z",
     "start_time": "2025-06-13T07:09:50.629877Z"
    }
   },
   "outputs": [],
   "source": [
    "import torch"
   ]
  },
  {
   "cell_type": "markdown",
   "source": [
    "确认是否使用CUDA"
   ],
   "metadata": {
    "collapsed": false
   },
   "id": "27a93df4d1eb9971"
  },
  {
   "cell_type": "code",
   "outputs": [
    {
     "name": "stdout",
     "output_type": "stream",
     "text": [
      "True\n"
     ]
    }
   ],
   "source": [
    "print(torch.cuda.is_available())"
   ],
   "metadata": {
    "collapsed": false,
    "ExecuteTime": {
     "end_time": "2025-06-13T07:09:57.449985Z",
     "start_time": "2025-06-13T07:09:57.189130Z"
    }
   },
   "id": "67de07ee4151c3e8",
   "execution_count": 2
  },
  {
   "cell_type": "markdown",
   "source": [
    "1.创建随机张量(tensor)"
   ],
   "metadata": {
    "collapsed": false
   },
   "id": "ba180b18bc7899f7"
  },
  {
   "cell_type": "code",
   "outputs": [
    {
     "name": "stdout",
     "output_type": "stream",
     "text": [
      "tensor([[0.3138, 0.5150, 0.3090],\n",
      "        [0.2501, 0.4245, 0.9350]])\n",
      "tensor([[0.6040, 0.5937, 0.1508],\n",
      "        [0.2523, 0.4815, 0.2778]])\n",
      "<class 'torch.Tensor'> tensor(2.7474)\n",
      "<class 'torch.Tensor'> tensor(0.4245)\n",
      "<class 'torch.Tensor'> tensor([[0.1895, 0.3058, 0.0466],\n",
      "        [0.0631, 0.2044, 0.2598]])\n",
      "tensor(0.9350)\n",
      "tensor(True)\n",
      "tensor(1.3138)\n"
     ]
    }
   ],
   "source": [
    "a = torch.rand(2,3)\n",
    "b = torch.rand(2,3)\n",
    "#创建一个两行三列的随机张量，填充随机数\n",
    "#Returns a tensor filled with random numbers from a uniform distribution on the interval [0,1)\n",
    "print(a)\n",
    "print(b)\n",
    "#计算张量a中所有数据的和，用type函数得到数据类型，可知返回值仍然是一个张量\n",
    "print(type(a.sum()),a.sum())\n",
    "#访问a张量第二行第二列的元素\n",
    "print(type(a[1,1]),a[1,1])\n",
    "#a张量与b张量相乘\n",
    "print(type(a*b),a*b)\n",
    "#获取张量a中的最大值\n",
    "print(a.max())\n",
    "#数据处理\n",
    "print(a[0,0]<1)\n",
    "print(a[0,0]+1)"
   ],
   "metadata": {
    "collapsed": false,
    "ExecuteTime": {
     "end_time": "2025-06-13T08:28:52.886691Z",
     "start_time": "2025-06-13T08:28:52.865192Z"
    }
   },
   "id": "20857d6d800aae4",
   "execution_count": 30
  },
  {
   "cell_type": "markdown",
   "source": [
    "导入 Numpy"
   ],
   "metadata": {
    "collapsed": false
   },
   "id": "6473a289c039518f"
  },
  {
   "cell_type": "code",
   "outputs": [],
   "source": [
    "import numpy as np"
   ],
   "metadata": {
    "collapsed": false,
    "ExecuteTime": {
     "end_time": "2025-06-13T07:19:51.129037Z",
     "start_time": "2025-06-13T07:19:51.119037Z"
    }
   },
   "id": "7f36b024b91a669",
   "execution_count": 17
  },
  {
   "cell_type": "markdown",
   "source": [
    "2.从 NumPy 数组创建张量"
   ],
   "metadata": {
    "collapsed": false
   },
   "id": "936823cafcf5c36e"
  },
  {
   "cell_type": "code",
   "outputs": [
    {
     "name": "stdout",
     "output_type": "stream",
     "text": [
      "<class 'numpy.ndarray'> [[1 1]\n",
      " [2 2]]\n",
      "<class 'torch.Tensor'> tensor([[1, 1],\n",
      "        [2, 2]])\n"
     ]
    }
   ],
   "source": [
    "numpy_array = np.array([[1, 1], [2, 2]])\n",
    "print(type(numpy_array),numpy_array)\n",
    "tensor = torch.from_numpy(numpy_array)\n",
    "print(type(tensor),tensor)\n",
    "#可以看到通过torch.from_numpy方法，我们将ndarray转化成用于PyTorch的tensor了"
   ],
   "metadata": {
    "collapsed": false,
    "ExecuteTime": {
     "end_time": "2025-06-13T07:20:55.235492Z",
     "start_time": "2025-06-13T07:20:55.166992Z"
    }
   },
   "id": "ee751c15f1f75367",
   "execution_count": 18
  },
  {
   "cell_type": "markdown",
   "source": [
    "3.张量的堆叠"
   ],
   "metadata": {
    "collapsed": false
   },
   "id": "eb2d7599a1edde2f"
  },
  {
   "cell_type": "code",
   "outputs": [
    {
     "name": "stdout",
     "output_type": "stream",
     "text": [
      "tensor([[1.0000, 2.0000, 3.0000, 4.0000, 0.5000],\n",
      "        [5.0000, 4.0000, 3.0000, 2.0000, 1.0000]])\n",
      "tensor([[1.0000, 5.0000],\n",
      "        [2.0000, 4.0000],\n",
      "        [3.0000, 3.0000],\n",
      "        [4.0000, 2.0000],\n",
      "        [0.5000, 1.0000]])\n",
      "tensor([4, 0, 1])\n",
      "tensor([0.5000, 1.0000, 2.0000])\n"
     ]
    }
   ],
   "source": [
    "#创建两个一维张量\n",
    "a = torch.tensor([1,2,3,4,0.5])\n",
    "b = torch.tensor([5,4,3,2,1])\n",
    "#操作一：dim(dimension)=0\n",
    "c = torch.stack([a,b],dim=0)\n",
    "print(c)\n",
    "#操作一：dim(dimension)=1(用来生成点集)\n",
    "d = torch.stack([a,b],dim=1)\n",
    "print(d)\n",
    "_, indexes = torch.topk(a, 3, largest=False)\n",
    "print(indexes)\n",
    "print(a[indexes])"
   ],
   "metadata": {
    "collapsed": false,
    "ExecuteTime": {
     "end_time": "2025-06-13T10:59:19.652464Z",
     "start_time": "2025-06-13T10:59:19.637966Z"
    }
   },
   "id": "c11de457334be493",
   "execution_count": 37
  },
  {
   "cell_type": "markdown",
   "source": [
    "4.zip压缩"
   ],
   "metadata": {
    "collapsed": false
   },
   "id": "3aefb470db79496f"
  },
  {
   "cell_type": "code",
   "outputs": [
    {
     "name": "stdout",
     "output_type": "stream",
     "text": [
      "[(tensor(1.2000), tensor(2.3000)), (tensor(2.1000), tensor(1.2000)), (tensor(3.3000), tensor(4.2000))]\n"
     ]
    }
   ],
   "source": [
    "x_train = torch.tensor([1.2, 2.1, 3.3])\n",
    "y_train = torch.tensor([2.3, 1.2, 4.2])\n",
    "s = list(zip(x_train, y_train))\n",
    "print(s)"
   ],
   "metadata": {
    "collapsed": false,
    "ExecuteTime": {
     "end_time": "2025-06-13T10:58:03.953218Z",
     "start_time": "2025-06-13T10:58:03.934219Z"
    }
   },
   "id": "2c88b17a611cf88c",
   "execution_count": 33
  },
  {
   "cell_type": "markdown",
   "source": [],
   "metadata": {
    "collapsed": false
   },
   "id": "e1691426ae17abb8"
  }
 ],
 "metadata": {
  "kernelspec": {
   "display_name": "Python 3",
   "language": "python",
   "name": "python3"
  },
  "language_info": {
   "codemirror_mode": {
    "name": "ipython",
    "version": 2
   },
   "file_extension": ".py",
   "mimetype": "text/x-python",
   "name": "python",
   "nbconvert_exporter": "python",
   "pygments_lexer": "ipython2",
   "version": "2.7.6"
  }
 },
 "nbformat": 4,
 "nbformat_minor": 5
}
