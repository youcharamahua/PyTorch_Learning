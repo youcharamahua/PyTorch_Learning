{
 "cells": [
  {
   "metadata": {
    "ExecuteTime": {
     "end_time": "2025-07-31T08:09:56.055927Z",
     "start_time": "2025-07-31T08:09:53.011434Z"
    }
   },
   "cell_type": "code",
   "source": "import torch",
   "id": "3fdd24da21bf81c2",
   "outputs": [],
   "execution_count": 1
  },
  {
   "metadata": {
    "ExecuteTime": {
     "end_time": "2025-07-31T08:09:56.071069Z",
     "start_time": "2025-07-31T08:09:56.066557Z"
    }
   },
   "cell_type": "code",
   "source": "model_path = \"test.pth\"",
   "id": "3d578dee81522db1",
   "outputs": [],
   "execution_count": 2
  },
  {
   "metadata": {
    "ExecuteTime": {
     "end_time": "2025-07-31T08:09:56.225211Z",
     "start_time": "2025-07-31T08:09:56.079081Z"
    }
   },
   "cell_type": "code",
   "source": [
    "# 加载权重文件\n",
    "checkpoint = torch.load( model_path,map_location='cpu')\n",
    "\n",
    "# 查看文件结构\n",
    "print(\"Keys in checkpoint:\", checkpoint.keys())\n",
    "\n",
    "# 如果是模型权重，查看权重键名\n",
    "if 'model' in checkpoint:\n",
    "    state_dict = checkpoint['model']\n",
    "    print(\"\\nFirst 10 weight keys:\")\n",
    "    for i, key in enumerate(list(state_dict.keys())):\n",
    "        if i < 10:\n",
    "            print(key)\n",
    "        else:\n",
    "            break\n",
    "\n",
    "# 检查权重形状\n",
    "print(\"\\nWeight shapes:\")\n",
    "for key, tensor in state_dict.items():\n",
    "    print(f\"{key}: {tuple(tensor.shape)}\")"
   ],
   "id": "fa9591e3ed458919",
   "outputs": [
    {
     "name": "stdout",
     "output_type": "stream",
     "text": [
      "Keys in checkpoint: dict_keys(['iteration', 'model'])\n",
      "\n",
      "First 10 weight keys:\n",
      "spectrogram_extractor.stft.conv_real.weight\n",
      "spectrogram_extractor.stft.conv_imag.weight\n",
      "logmel_extractor.melW\n",
      "bn0.weight\n",
      "bn0.bias\n",
      "bn0.running_mean\n",
      "bn0.running_var\n",
      "bn0.num_batches_tracked\n",
      "conv_block1.conv1.weight\n",
      "conv_block1.conv2.weight\n",
      "\n",
      "Weight shapes:\n",
      "spectrogram_extractor.stft.conv_real.weight: (513, 1, 1024)\n",
      "spectrogram_extractor.stft.conv_imag.weight: (513, 1, 1024)\n",
      "logmel_extractor.melW: (513, 64)\n",
      "bn0.weight: (64,)\n",
      "bn0.bias: (64,)\n",
      "bn0.running_mean: (64,)\n",
      "bn0.running_var: (64,)\n",
      "bn0.num_batches_tracked: ()\n",
      "conv_block1.conv1.weight: (64, 1, 3, 3)\n",
      "conv_block1.conv2.weight: (64, 64, 3, 3)\n",
      "conv_block1.bn1.weight: (64,)\n",
      "conv_block1.bn1.bias: (64,)\n",
      "conv_block1.bn1.running_mean: (64,)\n",
      "conv_block1.bn1.running_var: (64,)\n",
      "conv_block1.bn1.num_batches_tracked: ()\n",
      "conv_block1.bn2.weight: (64,)\n",
      "conv_block1.bn2.bias: (64,)\n",
      "conv_block1.bn2.running_mean: (64,)\n",
      "conv_block1.bn2.running_var: (64,)\n",
      "conv_block1.bn2.num_batches_tracked: ()\n",
      "conv_block2.conv1.weight: (128, 64, 3, 3)\n",
      "conv_block2.conv2.weight: (128, 128, 3, 3)\n",
      "conv_block2.bn1.weight: (128,)\n",
      "conv_block2.bn1.bias: (128,)\n",
      "conv_block2.bn1.running_mean: (128,)\n",
      "conv_block2.bn1.running_var: (128,)\n",
      "conv_block2.bn1.num_batches_tracked: ()\n",
      "conv_block2.bn2.weight: (128,)\n",
      "conv_block2.bn2.bias: (128,)\n",
      "conv_block2.bn2.running_mean: (128,)\n",
      "conv_block2.bn2.running_var: (128,)\n",
      "conv_block2.bn2.num_batches_tracked: ()\n",
      "conv_block3.conv1.weight: (256, 128, 3, 3)\n",
      "conv_block3.conv2.weight: (256, 256, 3, 3)\n",
      "conv_block3.bn1.weight: (256,)\n",
      "conv_block3.bn1.bias: (256,)\n",
      "conv_block3.bn1.running_mean: (256,)\n",
      "conv_block3.bn1.running_var: (256,)\n",
      "conv_block3.bn1.num_batches_tracked: ()\n",
      "conv_block3.bn2.weight: (256,)\n",
      "conv_block3.bn2.bias: (256,)\n",
      "conv_block3.bn2.running_mean: (256,)\n",
      "conv_block3.bn2.running_var: (256,)\n",
      "conv_block3.bn2.num_batches_tracked: ()\n",
      "conv_block4.conv1.weight: (512, 256, 3, 3)\n",
      "conv_block4.conv2.weight: (512, 512, 3, 3)\n",
      "conv_block4.bn1.weight: (512,)\n",
      "conv_block4.bn1.bias: (512,)\n",
      "conv_block4.bn1.running_mean: (512,)\n",
      "conv_block4.bn1.running_var: (512,)\n",
      "conv_block4.bn1.num_batches_tracked: ()\n",
      "conv_block4.bn2.weight: (512,)\n",
      "conv_block4.bn2.bias: (512,)\n",
      "conv_block4.bn2.running_mean: (512,)\n",
      "conv_block4.bn2.running_var: (512,)\n",
      "conv_block4.bn2.num_batches_tracked: ()\n",
      "conv_block5.conv1.weight: (1024, 512, 3, 3)\n",
      "conv_block5.conv2.weight: (1024, 1024, 3, 3)\n",
      "conv_block5.bn1.weight: (1024,)\n",
      "conv_block5.bn1.bias: (1024,)\n",
      "conv_block5.bn1.running_mean: (1024,)\n",
      "conv_block5.bn1.running_var: (1024,)\n",
      "conv_block5.bn1.num_batches_tracked: ()\n",
      "conv_block5.bn2.weight: (1024,)\n",
      "conv_block5.bn2.bias: (1024,)\n",
      "conv_block5.bn2.running_mean: (1024,)\n",
      "conv_block5.bn2.running_var: (1024,)\n",
      "conv_block5.bn2.num_batches_tracked: ()\n",
      "conv_block6.conv1.weight: (2048, 1024, 3, 3)\n",
      "conv_block6.conv2.weight: (2048, 2048, 3, 3)\n",
      "conv_block6.bn1.weight: (2048,)\n",
      "conv_block6.bn1.bias: (2048,)\n",
      "conv_block6.bn1.running_mean: (2048,)\n",
      "conv_block6.bn1.running_var: (2048,)\n",
      "conv_block6.bn1.num_batches_tracked: ()\n",
      "conv_block6.bn2.weight: (2048,)\n",
      "conv_block6.bn2.bias: (2048,)\n",
      "conv_block6.bn2.running_mean: (2048,)\n",
      "conv_block6.bn2.running_var: (2048,)\n",
      "conv_block6.bn2.num_batches_tracked: ()\n",
      "fc1.weight: (2048, 2048)\n",
      "fc1.bias: (2048,)\n",
      "fc_audioset.weight: (527, 2048)\n",
      "fc_audioset.bias: (527,)\n"
     ]
    }
   ],
   "execution_count": 3
  },
  {
   "metadata": {
    "ExecuteTime": {
     "end_time": "2025-07-31T08:09:56.913770Z",
     "start_time": "2025-07-31T08:09:56.898952Z"
    }
   },
   "cell_type": "code",
   "source": "",
   "id": "72315a1af5b49ac1",
   "outputs": [],
   "execution_count": null
  }
 ],
 "metadata": {
  "kernelspec": {
   "display_name": "Python 3",
   "language": "python",
   "name": "python3"
  },
  "language_info": {
   "codemirror_mode": {
    "name": "ipython",
    "version": 2
   },
   "file_extension": ".py",
   "mimetype": "text/x-python",
   "name": "python",
   "nbconvert_exporter": "python",
   "pygments_lexer": "ipython2",
   "version": "2.7.6"
  }
 },
 "nbformat": 4,
 "nbformat_minor": 5
}
