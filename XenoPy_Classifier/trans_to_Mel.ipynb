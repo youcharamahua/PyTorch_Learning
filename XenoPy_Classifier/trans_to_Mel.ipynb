{
 "cells": [
  {
   "cell_type": "code",
   "id": "initial_id",
   "metadata": {
    "collapsed": true,
    "ExecuteTime": {
     "end_time": "2025-06-22T06:33:33.532979Z",
     "start_time": "2025-06-22T06:33:33.445486Z"
    }
   },
   "source": [
    "import os\n",
    "import librosa\n",
    "import numpy as np\n",
    "from tqdm import tqdm\n",
    "import warnings\n",
    "warnings.filterwarnings(\"ignore\")\n"
   ],
   "outputs": [],
   "execution_count": 1
  },
  {
   "metadata": {
    "ExecuteTime": {
     "end_time": "2025-06-22T06:33:33.563941Z",
     "start_time": "2025-06-22T06:33:33.544489Z"
    }
   },
   "cell_type": "code",
   "source": [
    "# 配置参数\n",
    "input_dir = \"Bird_Song/all_data\" \n",
    "output_dir = \"Bird_Song/Mel\" \n",
    "target_sr = 22050  # 目标采样率\n",
    "duration = 2.0  # 音频时长（秒）\n",
    "samples_per_file = int(target_sr * duration)  # 每个文件所需采样数\n",
    "\n",
    "# Mel谱图参数\n",
    "n_fft = 2048\n",
    "hop_length = 512\n",
    "n_mels = 128"
   ],
   "id": "1195bfaeaf20539",
   "outputs": [],
   "execution_count": 2
  },
  {
   "metadata": {
    "ExecuteTime": {
     "end_time": "2025-06-22T06:33:33.719093Z",
     "start_time": "2025-06-22T06:33:33.704578Z"
    }
   },
   "cell_type": "code",
   "source": [
    "os.makedirs(output_dir, exist_ok=True)\n",
    "def process_audio(file_path):\n",
    "    \"\"\"处理单个音频文件并生成Mel谱图\"\"\"\n",
    "    try:\n",
    "        # 加载音频（自动重采样到target_sr）\n",
    "        y, _ = librosa.load(file_path, \n",
    "                           sr=target_sr, \n",
    "                           mono=True, \n",
    "                           duration=duration)\n",
    "        \n",
    "        # 如果音频过短，用静音填充\n",
    "        if len(y) < samples_per_file:\n",
    "            y = np.pad(y, (0, max(0, samples_per_file - len(y))), mode='constant')\n",
    "        \n",
    "        # 计算Mel谱图\n",
    "        mel = librosa.feature.melspectrogram(y=y, \n",
    "                                            sr=target_sr,\n",
    "                                            n_fft=n_fft,\n",
    "                                            hop_length=hop_length,\n",
    "                                            n_mels=n_mels)\n",
    "        \n",
    "        # 转换为对数刻度 (dB)\n",
    "        log_mel = librosa.power_to_db(mel, ref=np.max)\n",
    "        \n",
    "        # 归一化到[-1, 1]范围\n",
    "        log_mel = (log_mel - log_mel.min()) / (log_mel.max() - log_mel.min()) * 2 - 1\n",
    "        \n",
    "        return log_mel.astype(np.float32)\n",
    "    \n",
    "    except Exception as e:\n",
    "        print(f\"处理 {os.path.basename(file_path)} 时出错: {str(e)}\")\n",
    "        return None\n"
   ],
   "id": "37b938f1050e9db5",
   "outputs": [],
   "execution_count": 3
  },
  {
   "metadata": {
    "ExecuteTime": {
     "end_time": "2025-06-22T06:33:52.079088Z",
     "start_time": "2025-06-22T06:33:33.769401Z"
    }
   },
   "cell_type": "code",
   "source": [
    "# 遍历所有MP3文件\n",
    "for filename in tqdm(os.listdir(input_dir)):\n",
    "    if filename.lower().endswith(\".mp3\"):\n",
    "        file_path = os.path.join(input_dir, filename)\n",
    "        \n",
    "        # 处理音频\n",
    "        mel_spec = process_audio(file_path)\n",
    "        if mel_spec is None:\n",
    "            continue\n",
    "        \n",
    "        # 保存为NumPy数组\n",
    "        output_path = os.path.join(output_dir, \n",
    "                                 f\"{os.path.splitext(filename)[0]}.npy\")\n",
    "        np.save(output_path, mel_spec)\n",
    "\n",
    "print(f\"处理完成! 已保存到 {output_dir}\")"
   ],
   "id": "133291c3d0eb296f",
   "outputs": [
    {
     "name": "stderr",
     "output_type": "stream",
     "text": [
      "100%|██████████| 3147/3147 [00:18<00:00, 172.18it/s]"
     ]
    },
    {
     "name": "stdout",
     "output_type": "stream",
     "text": [
      "处理完成! 已保存到 Bird_Song/Mel\n"
     ]
    },
    {
     "name": "stderr",
     "output_type": "stream",
     "text": [
      "\n"
     ]
    }
   ],
   "execution_count": 4
  }
 ],
 "metadata": {
  "kernelspec": {
   "display_name": "Python 3",
   "language": "python",
   "name": "python3"
  },
  "language_info": {
   "codemirror_mode": {
    "name": "ipython",
    "version": 2
   },
   "file_extension": ".py",
   "mimetype": "text/x-python",
   "name": "python",
   "nbconvert_exporter": "python",
   "pygments_lexer": "ipython2",
   "version": "2.7.6"
  }
 },
 "nbformat": 4,
 "nbformat_minor": 5
}
