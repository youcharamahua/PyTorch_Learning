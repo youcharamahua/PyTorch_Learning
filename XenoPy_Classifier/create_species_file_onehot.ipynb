{
 "cells": [
  {
   "cell_type": "code",
   "id": "initial_id",
   "metadata": {
    "collapsed": true,
    "ExecuteTime": {
     "end_time": "2025-06-21T16:14:44.033949Z",
     "start_time": "2025-06-21T16:14:44.018829Z"
    }
   },
   "source": [
    "'''对数据集进行分类'''\n",
    "import os\n",
    "import pandas as pd\n",
    "\n",
    "\n",
    "def create_species_file_onehot(csv_path):\n",
    "    df = pd.read_csv(csv_path)\n",
    "    # 获取第一列（文件名）和第三列（物种名称）\n",
    "    file_names = df.iloc[:, 0]  # 第一列\n",
    "    species_names = df.iloc[:, 2]  # 第三列\n",
    "    # one-hot\n",
    "    species_list = []\n",
    "    species_index_list = []\n",
    "    # 遍历每一行数据\n",
    "    for file_name, species in zip(file_names, species_names):\n",
    "        # 清理物种名称（去除首尾空格）\n",
    "        species = str(species).strip()\n",
    "        # 如果物种不在字典中，创建新条目\n",
    "        if species not in species_list:\n",
    "            species_list.append(species)\n",
    "            species_index_list.append([str(len(species_list))])\n",
    "        # 添加文件名到对应物种的列表\n",
    "        _index = species_list.index(species)\n",
    "        species_index_list[_index].append(\"xc\"+str(file_name).strip())\n",
    "    return species_list,species_index_list\n",
    "\n",
    "species_list,species_index_list = create_species_file_onehot(\"birdsong_metadata.csv\")\n",
    "print(species_list)\n",
    "print(\"_________________________________________________________\")\n",
    "print(species_index_list)\n"
   ],
   "outputs": [
    {
     "name": "stdout",
     "output_type": "stream",
     "text": [
      "['flammea', 'palustris', 'schoenobaenus', 'scirpaceus', 'caudatus', 'arvensis', 'pratensis', 'trivialis', 'apus', 'canadensis', 'alpina', 'europaeus', 'carduelis', 'familiaris', 'chloris', 'ridibundus', 'monedula', 'livia', 'oenas', 'palumbus', 'corax', 'corone', 'frugilegus', 'canorus', 'caeruleus', 'urbicum', 'major', 'martius', 'calandra', 'citrinella', 'schoeniclus', 'rubecula', 'coelebs', 'atra', 'gallinago', 'chloropus', 'glandarius', 'stellata', 'ostralegus', 'rustica', 'torquilla', 'lagopus', 'argentatus', 'cannabina', 'fluviatilis', 'curvirostra', 'megarhynchos', 'apiaster', 'aguimp', 'flava', 'striata', 'oriolus', 'domesticus', 'montanus', 'perdix', 'ater', 'apivorus', 'colchicus', 'phoenicurus', 'collybita', 'sibilatrix', 'trochilus', 'pica', 'viridis', 'apricaria', 'squatarola', 'modularis', 'pyrrhula', 'regulus', 'europaea', 'decaocto', 'turtur', 'aluco', 'vulgaris', 'atricapilla', 'borin', 'communis', 'curruca', 'glareola', 'totanus', 'troglodytes', 'iliacus', 'merula', 'philomelos', 'vanellus']\n",
      "_________________________________________________________\n",
      "[['1', 'xc132608', 'xc132611', 'xc35068'], ['2', 'xc82715', 'xc64685', 'xc64686', 'xc46032', 'xc55184', 'xc26578'], ['3', 'xc120664', 'xc120666', 'xc76767'], ['4', 'xc124052', 'xc124053', 'xc27999'], ['5', 'xc113082', 'xc101371', 'xc128853'], ['6', 'xc123169', 'xc123170', 'xc158166'], ['7', 'xc138979', 'xc30614', 'xc142431'], ['8', 'xc83705', 'xc33395', 'xc99299'], ['9', 'xc139552', 'xc67307', 'xc77645'], ['10', 'xc94584', 'xc35578', 'xc95381'], ['11', 'xc64738', 'xc118363', 'xc83894'], ['12', 'xc156388', 'xc67229', 'xc27039'], ['13', 'xc133880', 'xc97792', 'xc133886'], ['14', 'xc70129', 'xc130409', 'xc146753'], ['15', 'xc28961', 'xc99155', 'xc124013'], ['16', 'xc129576', 'xc129577', 'xc143894'], ['17', 'xc121691', 'xc156262', 'xc121735'], ['18', 'xc92264', 'xc116226', 'xc121677'], ['19', 'xc89994', 'xc82971', 'xc77429'], ['20', 'xc130993', 'xc94614', 'xc94615'], ['21', 'xc42224', 'xc143170', 'xc64735'], ['22', 'xc96464', 'xc98400', 'xc96133'], ['23', 'xc27145', 'xc143002', 'xc143005'], ['24', 'xc33392', 'xc37447', 'xc134671'], ['25', 'xc42178', 'xc44203', 'xc131316'], ['26', 'xc148465', 'xc133444', 'xc142697'], ['27', 'xc148528', 'xc98172', 'xc72629', 'xc122555', 'xc94652', 'xc71454'], ['28', 'xc130426', 'xc98942', 'xc155975'], ['29', 'xc123168', 'xc125777', 'xc123167'], ['30', 'xc102106', 'xc102107', 'xc145533'], ['31', 'xc102048', 'xc102803', 'xc86327'], ['32', 'xc70124', 'xc30390', 'xc133862'], ['33', 'xc42803', 'xc122548', 'xc121597'], ['34', 'xc31059', 'xc44707', 'xc130639'], ['35', 'xc27080', 'xc90977', 'xc135270'], ['36', 'xc89530', 'xc26789', 'xc82701'], ['37', 'xc127136', 'xc142908', 'xc46223'], ['38', 'xc58571', 'xc58573', 'xc58579'], ['39', 'xc53817', 'xc25754', 'xc76241'], ['40', 'xc157322', 'xc157331', 'xc157279'], ['41', 'xc108002', 'xc133054', 'xc133471'], ['42', 'xc130283', 'xc149806', 'xc71943'], ['43', 'xc126481', 'xc154285', 'xc125486'], ['44', 'xc102060', 'xc125782', 'xc145534'], ['45', 'xc83760', 'xc140557', 'xc110303'], ['46', 'xc94211', 'xc94212', 'xc99862'], ['47', 'xc123808', 'xc123810', 'xc132580'], ['48', 'xc148426', 'xc141026', 'xc97194'], ['49', 'xc125137', 'xc41428', 'xc118441'], ['50', 'xc69792', 'xc102788', 'xc36637'], ['51', 'xc103145', 'xc134042', 'xc139372'], ['52', 'xc27152', 'xc101377', 'xc80356'], ['53', 'xc134291', 'xc151150', 'xc29766'], ['54', 'xc143465', 'xc90122', 'xc43764', 'xc91185', 'xc98691', 'xc164926'], ['55', 'xc46209', 'xc46211', 'xc42430'], ['56', 'xc95058', 'xc98842', 'xc132149'], ['57', 'xc113089', 'xc145738', 'xc146062'], ['58', 'xc153129', 'xc149146', 'xc121326'], ['59', 'xc76760', 'xc76761', 'xc76762'], ['60', 'xc153833', 'xc121963', 'xc71748'], ['61', 'xc101934', 'xc101862', 'xc101935'], ['62', 'xc121601', 'xc146755', 'xc99529'], ['63', 'xc121016', 'xc148889', 'xc29230'], ['64', 'xc99072', 'xc153131', 'xc43853'], ['65', 'xc42344', 'xc85842', 'xc42343'], ['66', 'xc150291', 'xc146757', 'xc160879'], ['67', 'xc145537', 'xc70132', 'xc94669'], ['68', 'xc113905', 'xc146707', 'xc83357'], ['69', 'xc49540', 'xc78958', 'xc106846'], ['70', 'xc99937', 'xc28926', 'xc78951'], ['71', 'xc128851', 'xc101940', 'xc101941'], ['72', 'xc40186', 'xc75092', 'xc144991'], ['73', 'xc64728', 'xc67089', 'xc76765'], ['74', 'xc101936', 'xc42698', 'xc144382'], ['75', 'xc94964', 'xc99357', 'xc94967'], ['76', 'xc102932', 'xc49443', 'xc146260'], ['77', 'xc135521', 'xc76740', 'xc76742'], ['78', 'xc101932', 'xc101933', 'xc102278'], ['79', 'xc41816', 'xc102868', 'xc102869'], ['80', 'xc83912', 'xc57919', 'xc110167'], ['81', 'xc133872', 'xc59776', 'xc71024'], ['82', 'xc121168', 'xc27962', 'xc25119'], ['83', 'xc127996', 'xc72861', 'xc94958'], ['84', 'xc96608', 'xc132392', 'xc146756'], ['85', 'xc27060', 'xc97982', 'xc69855']]\n"
     ]
    }
   ],
   "execution_count": 5
  },
  {
   "metadata": {},
   "cell_type": "code",
   "outputs": [],
   "execution_count": null,
   "source": "",
   "id": "f3338781a39c78fe"
  }
 ],
 "metadata": {
  "kernelspec": {
   "display_name": "Python 3",
   "language": "python",
   "name": "python3"
  },
  "language_info": {
   "codemirror_mode": {
    "name": "ipython",
    "version": 2
   },
   "file_extension": ".py",
   "mimetype": "text/x-python",
   "name": "python",
   "nbconvert_exporter": "python",
   "pygments_lexer": "ipython2",
   "version": "2.7.6"
  }
 },
 "nbformat": 4,
 "nbformat_minor": 5
}
