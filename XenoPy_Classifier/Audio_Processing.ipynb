{
 "cells": [
  {
   "cell_type": "code",
   "id": "initial_id",
   "metadata": {
    "collapsed": true,
    "ExecuteTime": {
     "end_time": "2025-06-21T16:05:31.538785Z",
     "start_time": "2025-06-21T16:05:31.260347Z"
    }
   },
   "source": [
    "'''对数据集进行分类'''\n",
    "import os\n",
    "import pandas as pd\n",
    "\n",
    "\n",
    "def create_species_file_dict(csv_path):\n",
    "    df = pd.read_csv(csv_path)\n",
    "\n",
    "    # 获取第一列（文件名）和第三列（物种名称）\n",
    "    file_names = df.iloc[:, 0]  # 第一列\n",
    "    species_names = df.iloc[:, 2]  # 第三列\n",
    "    \n",
    "    # 创建物种-文件字典\n",
    "    species_dict = {}\n",
    "    \n",
    "    # 遍历每一行数据\n",
    "    for file_name, species in zip(file_names, species_names):\n",
    "        # 清理物种名称（去除首尾空格）\n",
    "        species = str(species).strip()\n",
    "        # 如果物种不在字典中，创建新条目\n",
    "        if species not in species_dict:\n",
    "            species_dict[species] = []\n",
    "        # 添加文件名到对应物种的列表\n",
    "        species_dict[species].append(\"xc\"+str(file_name).strip())\n",
    "    return species_dict\n",
    "\n",
    "species_dict = create_species_file_dict(\"birdsong_metadata.csv\")\n",
    "print(species_dict)\n"
   ],
   "outputs": [
    {
     "name": "stdout",
     "output_type": "stream",
     "text": [
      "{'flammea': ['xc132608', 'xc132611', 'xc35068'], 'palustris': ['xc82715', 'xc64685', 'xc64686', 'xc46032', 'xc55184', 'xc26578'], 'schoenobaenus': ['xc120664', 'xc120666', 'xc76767'], 'scirpaceus': ['xc124052', 'xc124053', 'xc27999'], 'caudatus': ['xc113082', 'xc101371', 'xc128853'], 'arvensis': ['xc123169', 'xc123170', 'xc158166'], 'pratensis': ['xc138979', 'xc30614', 'xc142431'], 'trivialis': ['xc83705', 'xc33395', 'xc99299'], 'apus': ['xc139552', 'xc67307', 'xc77645'], 'canadensis': ['xc94584', 'xc35578', 'xc95381'], 'alpina': ['xc64738', 'xc118363', 'xc83894'], 'europaeus': ['xc156388', 'xc67229', 'xc27039'], 'carduelis': ['xc133880', 'xc97792', 'xc133886'], 'familiaris': ['xc70129', 'xc130409', 'xc146753'], 'chloris': ['xc28961', 'xc99155', 'xc124013'], 'ridibundus': ['xc129576', 'xc129577', 'xc143894'], 'monedula': ['xc121691', 'xc156262', 'xc121735'], 'livia': ['xc92264', 'xc116226', 'xc121677'], 'oenas': ['xc89994', 'xc82971', 'xc77429'], 'palumbus': ['xc130993', 'xc94614', 'xc94615'], 'corax': ['xc42224', 'xc143170', 'xc64735'], 'corone': ['xc96464', 'xc98400', 'xc96133'], 'frugilegus': ['xc27145', 'xc143002', 'xc143005'], 'canorus': ['xc33392', 'xc37447', 'xc134671'], 'caeruleus': ['xc42178', 'xc44203', 'xc131316'], 'urbicum': ['xc148465', 'xc133444', 'xc142697'], 'major': ['xc148528', 'xc98172', 'xc72629', 'xc122555', 'xc94652', 'xc71454'], 'martius': ['xc130426', 'xc98942', 'xc155975'], 'calandra': ['xc123168', 'xc125777', 'xc123167'], 'citrinella': ['xc102106', 'xc102107', 'xc145533'], 'schoeniclus': ['xc102048', 'xc102803', 'xc86327'], 'rubecula': ['xc70124', 'xc30390', 'xc133862'], 'coelebs': ['xc42803', 'xc122548', 'xc121597'], 'atra': ['xc31059', 'xc44707', 'xc130639'], 'gallinago': ['xc27080', 'xc90977', 'xc135270'], 'chloropus': ['xc89530', 'xc26789', 'xc82701'], 'glandarius': ['xc127136', 'xc142908', 'xc46223'], 'stellata': ['xc58571', 'xc58573', 'xc58579'], 'ostralegus': ['xc53817', 'xc25754', 'xc76241'], 'rustica': ['xc157322', 'xc157331', 'xc157279'], 'torquilla': ['xc108002', 'xc133054', 'xc133471'], 'lagopus': ['xc130283', 'xc149806', 'xc71943'], 'argentatus': ['xc126481', 'xc154285', 'xc125486'], 'cannabina': ['xc102060', 'xc125782', 'xc145534'], 'fluviatilis': ['xc83760', 'xc140557', 'xc110303'], 'curvirostra': ['xc94211', 'xc94212', 'xc99862'], 'megarhynchos': ['xc123808', 'xc123810', 'xc132580'], 'apiaster': ['xc148426', 'xc141026', 'xc97194'], 'aguimp': ['xc125137', 'xc41428', 'xc118441'], 'flava': ['xc69792', 'xc102788', 'xc36637'], 'striata': ['xc103145', 'xc134042', 'xc139372'], 'oriolus': ['xc27152', 'xc101377', 'xc80356'], 'domesticus': ['xc134291', 'xc151150', 'xc29766'], 'montanus': ['xc143465', 'xc90122', 'xc43764', 'xc91185', 'xc98691', 'xc164926'], 'perdix': ['xc46209', 'xc46211', 'xc42430'], 'ater': ['xc95058', 'xc98842', 'xc132149'], 'apivorus': ['xc113089', 'xc145738', 'xc146062'], 'colchicus': ['xc153129', 'xc149146', 'xc121326'], 'phoenicurus': ['xc76760', 'xc76761', 'xc76762'], 'collybita': ['xc153833', 'xc121963', 'xc71748'], 'sibilatrix': ['xc101934', 'xc101862', 'xc101935'], 'trochilus': ['xc121601', 'xc146755', 'xc99529'], 'pica': ['xc121016', 'xc148889', 'xc29230'], 'viridis': ['xc99072', 'xc153131', 'xc43853'], 'apricaria': ['xc42344', 'xc85842', 'xc42343'], 'squatarola': ['xc150291', 'xc146757', 'xc160879'], 'modularis': ['xc145537', 'xc70132', 'xc94669'], 'pyrrhula': ['xc113905', 'xc146707', 'xc83357'], 'regulus': ['xc49540', 'xc78958', 'xc106846'], 'europaea': ['xc99937', 'xc28926', 'xc78951'], 'decaocto': ['xc128851', 'xc101940', 'xc101941'], 'turtur': ['xc40186', 'xc75092', 'xc144991'], 'aluco': ['xc64728', 'xc67089', 'xc76765'], 'vulgaris': ['xc101936', 'xc42698', 'xc144382'], 'atricapilla': ['xc94964', 'xc99357', 'xc94967'], 'borin': ['xc102932', 'xc49443', 'xc146260'], 'communis': ['xc135521', 'xc76740', 'xc76742'], 'curruca': ['xc101932', 'xc101933', 'xc102278'], 'glareola': ['xc41816', 'xc102868', 'xc102869'], 'totanus': ['xc83912', 'xc57919', 'xc110167'], 'troglodytes': ['xc133872', 'xc59776', 'xc71024'], 'iliacus': ['xc121168', 'xc27962', 'xc25119'], 'merula': ['xc127996', 'xc72861', 'xc94958'], 'philomelos': ['xc96608', 'xc132392', 'xc146756'], 'vanellus': ['xc27060', 'xc97982', 'xc69855']}\n"
     ]
    }
   ],
   "execution_count": 1
  },
  {
   "metadata": {},
   "cell_type": "code",
   "outputs": [],
   "execution_count": null,
   "source": "",
   "id": "f3338781a39c78fe"
  }
 ],
 "metadata": {
  "kernelspec": {
   "display_name": "Python 3",
   "language": "python",
   "name": "python3"
  },
  "language_info": {
   "codemirror_mode": {
    "name": "ipython",
    "version": 2
   },
   "file_extension": ".py",
   "mimetype": "text/x-python",
   "name": "python",
   "nbconvert_exporter": "python",
   "pygments_lexer": "ipython2",
   "version": "2.7.6"
  }
 },
 "nbformat": 4,
 "nbformat_minor": 5
}
