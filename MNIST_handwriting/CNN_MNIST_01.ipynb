{
 "cells": [
  {
   "cell_type": "code",
   "execution_count": 82,
   "id": "initial_id",
   "metadata": {
    "collapsed": true,
    "ExecuteTime": {
     "end_time": "2025-06-16T21:01:31.419522Z",
     "start_time": "2025-06-16T21:01:31.410521Z"
    }
   },
   "outputs": [],
   "source": [
    "import torch\n",
    "import numpy as np\n",
    "from torch import nn\n",
    "from torchvision import transforms,datasets\n",
    "from torch.utils.data import DataLoader"
   ]
  },
  {
   "cell_type": "code",
   "outputs": [],
   "source": [
    "device = torch.device(\"cuda\" if torch.cuda.is_available() else \"cpu\")"
   ],
   "metadata": {
    "collapsed": false,
    "ExecuteTime": {
     "end_time": "2025-06-16T21:01:31.435024Z",
     "start_time": "2025-06-16T21:01:31.421523Z"
    }
   },
   "id": "1683f5cbacf1951c",
   "execution_count": 83
  },
  {
   "cell_type": "code",
   "outputs": [],
   "source": [
    "#通过PyTorch下载数据集\n",
    "train_dataset = datasets.MNIST(root='',train=True,download=True,transform=transforms.Compose([transforms.Resize(size=(32,32)),transforms.ToTensor()]))\n",
    "test_dataset = datasets.MNIST(root='',train=False,download=True,transform=transforms.Compose([transforms.Resize(size=(32,32)),transforms.ToTensor()]))"
   ],
   "metadata": {
    "collapsed": false,
    "ExecuteTime": {
     "end_time": "2025-06-16T21:01:31.481524Z",
     "start_time": "2025-06-16T21:01:31.436522Z"
    }
   },
   "id": "4029a70320ecd65d",
   "execution_count": 84
  },
  {
   "cell_type": "code",
   "outputs": [
    {
     "name": "stdout",
     "output_type": "stream",
     "text": [
      "60000\n",
      "10000\n"
     ]
    }
   ],
   "source": [
    "train_dataset_size = len(train_dataset)\n",
    "test_dataset_size = len(test_dataset)\n",
    "print(train_dataset_size)\n",
    "print(test_dataset_size)\n",
    "\n",
    "batch_size = 64\n",
    "#shuffle=True可以打乱数据集，batch_size=64将会让这个数据生成器每次给我们64个数据,drop_last=True会把不够64一组的舍去（影响不大）。\n",
    "train_loader = DataLoader(dataset=train_dataset,batch_size=batch_size,shuffle=True,drop_last=True)\n",
    "test_loader = DataLoader(dataset=test_dataset,batch_size=batch_size,shuffle=True,drop_last=True)"
   ],
   "metadata": {
    "collapsed": false,
    "ExecuteTime": {
     "end_time": "2025-06-16T21:01:31.497021Z",
     "start_time": "2025-06-16T21:01:31.484522Z"
    }
   },
   "id": "8f584c401223cb35",
   "execution_count": 85
  },
  {
   "cell_type": "code",
   "outputs": [
    {
     "name": "stdout",
     "output_type": "stream",
     "text": [
      "torch.Size([64, 1, 32, 32])\n",
      "torch.Size([64])\n",
      "tensor([3, 6, 1, 1, 4, 2, 9, 8, 7, 8, 6, 1, 7, 8, 9, 9, 5, 2, 4, 7, 7, 3, 2, 4,\n",
      "        7, 1, 1, 2, 2, 7, 0, 2, 0, 3, 7, 5, 2, 5, 0, 0, 9, 1, 0, 3, 3, 1, 7, 4,\n",
      "        9, 2, 8, 9, 5, 1, 6, 0, 2, 4, 2, 9, 1, 4, 4, 4])\n"
     ]
    }
   ],
   "source": [
    "'''这里先单独获取一次DataLoader的数据，用来观察数据结构'''\n",
    "#enumerate将可迭代对象组合为索引序列，同时列出数据和数据下标。\n",
    "for index,data in enumerate(train_loader):\n",
    "    inputs, labels = data\n",
    "    print(inputs.shape)\n",
    "    print(labels.shape)\n",
    "    print(labels)\n",
    "    break"
   ],
   "metadata": {
    "collapsed": false,
    "ExecuteTime": {
     "end_time": "2025-06-16T21:01:31.528021Z",
     "start_time": "2025-06-16T21:01:31.498523Z"
    }
   },
   "id": "bbb3c338cb73d5cd",
   "execution_count": 86
  },
  {
   "cell_type": "code",
   "outputs": [],
   "source": [
    "class Net(nn.Module):\n",
    "    def __init__(self):\n",
    "        super(Net,self).__init__()\n",
    "        self.model = nn.Sequential(\n",
    "            nn.Conv2d(in_channels=1,out_channels=6,kernel_size=5,stride=1,padding=0),\n",
    "            nn.MaxPool2d(kernel_size=(2,2)),\n",
    "            nn.Conv2d(in_channels=6,out_channels=16,kernel_size=5,stride=1,padding=0),\n",
    "            nn.MaxPool2d(kernel_size=(2,2)),\n",
    "            nn.Flatten(),\n",
    "            nn.Linear(in_features=16*5*5,out_features=1*120),\n",
    "            nn.Linear(in_features=1*120,out_features=84),\n",
    "            nn.Linear(in_features=84,out_features=10)\n",
    "        )\n",
    "    \n",
    "    def forward(self,x):\n",
    "        x = self.model(x)\n",
    "        return x\n",
    "        "
   ],
   "metadata": {
    "collapsed": false,
    "ExecuteTime": {
     "end_time": "2025-06-16T21:01:31.543521Z",
     "start_time": "2025-06-16T21:01:31.529523Z"
    }
   },
   "id": "ce76831103670a19",
   "execution_count": 87
  },
  {
   "cell_type": "code",
   "outputs": [
    {
     "name": "stdout",
     "output_type": "stream",
     "text": [
      "Net(\n",
      "  (model): Sequential(\n",
      "    (0): Conv2d(1, 6, kernel_size=(5, 5), stride=(1, 1))\n",
      "    (1): MaxPool2d(kernel_size=(2, 2), stride=(2, 2), padding=0, dilation=1, ceil_mode=False)\n",
      "    (2): Conv2d(6, 16, kernel_size=(5, 5), stride=(1, 1))\n",
      "    (3): MaxPool2d(kernel_size=(2, 2), stride=(2, 2), padding=0, dilation=1, ceil_mode=False)\n",
      "    (4): Flatten(start_dim=1, end_dim=-1)\n",
      "    (5): Linear(in_features=400, out_features=120, bias=True)\n",
      "    (6): Linear(in_features=120, out_features=84, bias=True)\n",
      "    (7): Linear(in_features=84, out_features=10, bias=True)\n",
      "  )\n",
      ")\n"
     ]
    }
   ],
   "source": [
    "LR = 1e-2\n",
    "#神经网络模型对象创建\n",
    "net = Net()\n",
    "net = net.to(device)\n",
    "print(net)\n",
    "loss_fn = nn.CrossEntropyLoss()\n",
    "loss_fn = loss_fn.to(device)\n",
    "optim = torch.optim.SGD(net.parameters(),LR)"
   ],
   "metadata": {
    "collapsed": false,
    "ExecuteTime": {
     "end_time": "2025-06-16T21:01:31.559022Z",
     "start_time": "2025-06-16T21:01:31.545523Z"
    }
   },
   "id": "2c5dba5ea3b7a75c",
   "execution_count": 88
  },
  {
   "cell_type": "code",
   "outputs": [],
   "source": [
    "def train():\n",
    "    for index,data in enumerate(train_loader):\n",
    "        inputs, labels = data\n",
    "        inputs = inputs.to(device)\n",
    "        labels = labels.to(device)\n",
    "        outputs = net(inputs)\n",
    "        loss = loss_fn(outputs,labels)\n",
    "        optim.zero_grad()\n",
    "        loss.backward()\n",
    "        optim.step()\n",
    "\n",
    "def test():\n",
    "    times = 0\n",
    "    for index,data in enumerate(test_loader):\n",
    "        times += 1\n",
    "        inputs, labels = data\n",
    "        inputs = inputs.to(device)\n",
    "        labels = labels.to(device)\n",
    "        outputs = net(inputs)\n",
    "        accuracy = (outputs.argmax(axis=1) == labels).sum()\n",
    "        if times % 30 == 0:\n",
    "            print(\"Test accuracy:{0}\".format(accuracy/len(labels)))"
   ],
   "metadata": {
    "collapsed": false,
    "ExecuteTime": {
     "end_time": "2025-06-16T21:01:31.574522Z",
     "start_time": "2025-06-16T21:01:31.560522Z"
    }
   },
   "id": "8bf5d80dee50da89",
   "execution_count": 89
  },
  {
   "cell_type": "code",
   "outputs": [
    {
     "name": "stdout",
     "output_type": "stream",
     "text": [
      "epoch 0\n",
      "Test accuracy:0.9375\n",
      "Test accuracy:0.9375\n",
      "Test accuracy:0.90625\n",
      "Test accuracy:0.875\n",
      "Test accuracy:0.890625\n",
      "epoch 5\n",
      "Test accuracy:0.96875\n",
      "Test accuracy:0.953125\n",
      "Test accuracy:0.921875\n",
      "Test accuracy:0.96875\n",
      "Test accuracy:0.984375\n",
      "epoch 10\n",
      "Test accuracy:0.96875\n",
      "Test accuracy:0.984375\n",
      "Test accuracy:0.96875\n",
      "Test accuracy:0.96875\n",
      "Test accuracy:1.0\n",
      "epoch 15\n",
      "Test accuracy:0.984375\n",
      "Test accuracy:0.984375\n",
      "Test accuracy:1.0\n",
      "Test accuracy:0.984375\n",
      "Test accuracy:0.953125\n",
      "epoch 20\n",
      "Test accuracy:1.0\n",
      "Test accuracy:0.984375\n",
      "Test accuracy:0.984375\n",
      "Test accuracy:1.0\n",
      "Test accuracy:0.96875\n",
      "Final accuracy\n",
      "Test accuracy:0.96875\n",
      "Test accuracy:1.0\n",
      "Test accuracy:0.984375\n",
      "Test accuracy:0.953125\n",
      "Test accuracy:1.0\n"
     ]
    }
   ],
   "source": [
    "for epoch in range(25):\n",
    "    train()\n",
    "    if epoch % 5 == 0:\n",
    "        print(\"epoch {0}\".format(epoch))\n",
    "        test()\n",
    "print(\"Final accuracy\")\n",
    "test()"
   ],
   "metadata": {
    "collapsed": false,
    "ExecuteTime": {
     "end_time": "2025-06-16T21:06:13.723001Z",
     "start_time": "2025-06-16T21:01:31.576021Z"
    }
   },
   "id": "57123d5aea8469fc",
   "execution_count": 90
  }
 ],
 "metadata": {
  "kernelspec": {
   "display_name": "Python 3",
   "language": "python",
   "name": "python3"
  },
  "language_info": {
   "codemirror_mode": {
    "name": "ipython",
    "version": 2
   },
   "file_extension": ".py",
   "mimetype": "text/x-python",
   "name": "python",
   "nbconvert_exporter": "python",
   "pygments_lexer": "ipython2",
   "version": "2.7.6"
  }
 },
 "nbformat": 4,
 "nbformat_minor": 5
}
